{
 "cells": [
  {
   "cell_type": "code",
   "execution_count": null,
   "metadata": {},
   "outputs": [],
   "source": [
    "from model_handler import XGBoostModel"
   ]
  },
  {
   "cell_type": "code",
   "execution_count": null,
   "metadata": {},
   "outputs": [],
   "source": [
    "import requests\n",
    "import json\n",
    "\n",
    "# Define the input data\n",
    "input_obj= {\n",
    "    'store_data': [\n",
    "        {\n",
    "            'Store': 1,\n",
    "            'Dept': 1,\n",
    "            'IsHoliday': True,\n",
    "            'Type': 'A',\n",
    "            'Size': 1234,\n",
    "            'date': '28/10/2012'\n",
    "        },\n",
    "                {\n",
    "            'Store': 1,\n",
    "            'Dept': 1,\n",
    "            'IsHoliday': False,\n",
    "            'Type': 'A',\n",
    "            'Size': 12345,\n",
    "            'date': '04/11/2011'\n",
    "        },\n",
    "                {\n",
    "            'Store': 1,\n",
    "            'Dept': 1,\n",
    "            'IsHoliday': False,\n",
    "            'Type': 'A',\n",
    "            'Size': 123456,\n",
    "            'date': '11/11/2011'\n",
    "        },\n",
    "                {\n",
    "            'Store': 1,\n",
    "            'Dept': 1,\n",
    "            'IsHoliday': True,\n",
    "            'Type': 'A',\n",
    "            'Size': 123456,\n",
    "            'date': '18/11/2011'\n",
    "        },\n",
    "    ]\n",
    "}\n",
    "\n",
    "# Define the URL where the Flask app is running\n",
    "url = 'http://127.0.0.1:5000/predict'\n",
    "\n",
    "# Send the POST request with the input data\n",
    "response = requests.post(url, json=input_obj)\n",
    "\n",
    "# Print the response from the Flask server\n",
    "print(response.status_code)\n",
    "print(response.json())\n"
   ]
  },
  {
   "cell_type": "code",
   "execution_count": null,
   "metadata": {},
   "outputs": [],
   "source": [
    "from prophet_handler import ProphetModel"
   ]
  },
  {
   "cell_type": "code",
   "execution_count": null,
   "metadata": {},
   "outputs": [],
   "source": [
    "prophet = ProphetModel()"
   ]
  },
  {
   "cell_type": "code",
   "execution_count": null,
   "metadata": {},
   "outputs": [],
   "source": [
    "test = prophet.predict(1,5)"
   ]
  },
  {
   "cell_type": "code",
   "execution_count": null,
   "metadata": {},
   "outputs": [],
   "source": [
    "prophet.plot_prediction()"
   ]
  }
 ],
 "metadata": {
  "kernelspec": {
   "display_name": "chatbot",
   "language": "python",
   "name": "python3"
  },
  "language_info": {
   "codemirror_mode": {
    "name": "ipython",
    "version": 3
   },
   "file_extension": ".py",
   "mimetype": "text/x-python",
   "name": "python",
   "nbconvert_exporter": "python",
   "pygments_lexer": "ipython3",
   "version": "3.12.7"
  }
 },
 "nbformat": 4,
 "nbformat_minor": 2
}
