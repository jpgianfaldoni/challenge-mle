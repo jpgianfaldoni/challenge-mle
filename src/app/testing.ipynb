{
 "cells": [
  {
   "cell_type": "code",
   "execution_count": null,
   "metadata": {},
   "outputs": [],
   "source": [
    "from model_handler import XGBoostModel\n",
    "from sklearn.preprocessing import OneHotEncoder, StandardScaler\n",
    "from sklearn.compose import ColumnTransformer\n",
    "from datetime import datetime, timedelta\n"
   ]
  },
  {
   "cell_type": "code",
   "execution_count": null,
   "metadata": {},
   "outputs": [],
   "source": [
    "import requests\n",
    "import json\n",
    "\n",
    "input_obj = {\n",
    "    'store_data': [\n",
    "        {\n",
    "            'Store': 1,\n",
    "            'Dept': 1,\n",
    "            'IsHoliday': True,\n",
    "            'Type': 'A',\n",
    "            'Size': 321312312312,\n",
    "            'date': '26/02/2011'\n",
    "        },\n",
    "                {\n",
    "            'Store': 12,\n",
    "            'Dept': 12,\n",
    "            'IsHoliday': True,\n",
    "            'Type': 'B',\n",
    "            'Size': 1234,\n",
    "            'date': '05/03/2011'\n",
    "        },\n",
    "                {\n",
    "            'Store': 1,\n",
    "            'Dept': 1,\n",
    "            'IsHoliday': True,\n",
    "            'Type': 'A',\n",
    "            'Size': 151315,\n",
    "            'date': '12/03/2011'\n",
    "        },\n",
    "                {\n",
    "            'Store': 1,\n",
    "            'Dept': 1,\n",
    "            'IsHoliday': True,\n",
    "            'Type': 'A',\n",
    "            'Size': 151315,\n",
    "            'date': '19/03/2011'\n",
    "        },\n",
    "    ]\n",
    "}\n",
    "\n",
    "url = 'http://127.0.0.1:5000/predict'\n",
    "\n",
    "response = requests.post(url, json=input_obj)\n",
    "\n",
    "print(response.status_code)\n",
    "print(response.json())\n"
   ]
  }
 ],
 "metadata": {
  "kernelspec": {
   "display_name": "chatbot",
   "language": "python",
   "name": "python3"
  },
  "language_info": {
   "codemirror_mode": {
    "name": "ipython",
    "version": 3
   },
   "file_extension": ".py",
   "mimetype": "text/x-python",
   "name": "python",
   "nbconvert_exporter": "python",
   "pygments_lexer": "ipython3",
   "version": "3.12.7"
  }
 },
 "nbformat": 4,
 "nbformat_minor": 2
}
