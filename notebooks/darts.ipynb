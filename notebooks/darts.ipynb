{
 "cells": [
  {
   "cell_type": "code",
   "execution_count": 1,
   "metadata": {},
   "outputs": [
    {
     "name": "stderr",
     "output_type": "stream",
     "text": [
      "/Users/joaoandrade/.pyenv/versions/3.12.7/envs/chatbot/lib/python3.12/site-packages/tqdm/auto.py:21: TqdmWarning: IProgress not found. Please update jupyter and ipywidgets. See https://ipywidgets.readthedocs.io/en/stable/user_install.html\n",
      "  from .autonotebook import tqdm as notebook_tqdm\n",
      "Importing plotly failed. Interactive plots will not work.\n"
     ]
    }
   ],
   "source": [
    "import pandas as pd\n",
    "from darts import TimeSeries\n",
    "from darts.models import Prophet\n",
    "from darts import TimeSeries\n",
    "import matplotlib as plt\n",
    "from darts.models import RegressionModel\n",
    "import numpy as np\n",
    "import matplotlib.pyplot as plt\n",
    "from darts.metrics import mase\n"
   ]
  },
  {
   "cell_type": "code",
   "execution_count": 2,
   "metadata": {},
   "outputs": [],
   "source": [
    "df_features = pd.read_csv('../data/features.csv')\n",
    "df_sales = pd.read_csv('../data/sales.csv')\n",
    "df_stores = pd.read_csv('../data/stores.csv')\n",
    "df_features['Date'] = pd.to_datetime(df_features['Date'], format='%d/%m/%Y')\n",
    "df_sales['Date'] = pd.to_datetime(df_sales['Date'], format='%d/%m/%Y')\n",
    "df_features = df_features.rename(columns={'IsHoliday': 'IsHolidayFeatures'})\n",
    "df_combined = pd.merge(df_sales, df_stores, on='Store', how='left')\n",
    "df_final = pd.merge(df_combined, df_features, on=['Store', 'Date'], how='left')\n",
    "df_final['week'] = df_final['Date'].dt.isocalendar().week\n",
    "df_final['month'] = df_final['Date'].dt.month\n",
    "df_final['day'] = df_final['Date'].dt.day\n",
    "df_final['original_date'] = df_final['Date']\n",
    "df_final.set_index('Date', inplace=True)"
   ]
  },
  {
   "cell_type": "code",
   "execution_count": 3,
   "metadata": {},
   "outputs": [],
   "source": [
    "target = None\n",
    "past_covariates = None\n",
    "\n",
    "for store in range(1, 30):\n",
    "    for dept in range(1, 10):\n",
    "        df_filtered = df_final[(df_final['Store'] == store) & (df_final['Dept'] == dept)]\n",
    "        \n",
    "        if df_filtered.empty:\n",
    "            continue\n",
    "        series = TimeSeries.from_dataframe(df_filtered, value_cols=['Weekly_Sales', 'Dept', 'Store', 'IsHoliday'])\n",
    "        series = series.with_static_covariates(pd.Series({'store_id': store, 'dept_id': dept}))\n",
    "        current_target = series['Weekly_Sales']\n",
    "        current_past_cov_dept = series['Dept']\n",
    "        current_past_cov_store = series['Store']\n",
    "        current_past_cov_holiday = series['IsHoliday']\n",
    "        current_past_covariates = current_past_cov_dept.stack(current_past_cov_store)\n",
    "        current_past_covariates.stack(current_past_cov_holiday)\n",
    "        target = current_target if target is None else target.stack(current_target)\n",
    "        past_covariates = current_past_covariates if past_covariates is None else past_covariates.stack(current_past_covariates)\n",
    "\n"
   ]
  },
  {
   "cell_type": "code",
   "execution_count": 4,
   "metadata": {},
   "outputs": [],
   "source": [
    "target_train, target_val = target[:100], target[100:]\n",
    "cov_train, cov_val = past_covariates[:100], past_covariates[100:]"
   ]
  },
  {
   "cell_type": "code",
   "execution_count": 5,
   "metadata": {},
   "outputs": [],
   "source": [
    "\n",
    "regr_model = RegressionModel(lags=30,\n",
    "                            lags_past_covariates=30,\n",
    "                            output_chunk_length=40\n",
    "                            )\n",
    "test = regr_model.fit(series=target_train,\n",
    "            past_covariates=cov_train)\n",
    "future = regr_model.predict(40, series =target_val, past_covariates=cov_val)\n"
   ]
  },
  {
   "cell_type": "code",
   "execution_count": null,
   "metadata": {},
   "outputs": [],
   "source": [
    "future.plot()"
   ]
  }
 ],
 "metadata": {
  "kernelspec": {
   "display_name": "chatbot",
   "language": "python",
   "name": "python3"
  },
  "language_info": {
   "codemirror_mode": {
    "name": "ipython",
    "version": 3
   },
   "file_extension": ".py",
   "mimetype": "text/x-python",
   "name": "python",
   "nbconvert_exporter": "python",
   "pygments_lexer": "ipython3",
   "version": "3.12.7"
  }
 },
 "nbformat": 4,
 "nbformat_minor": 2
}
