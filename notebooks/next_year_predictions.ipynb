{
 "cells": [
  {
   "cell_type": "code",
   "execution_count": 1,
   "metadata": {},
   "outputs": [],
   "source": [
    "import pandas as pd\n",
    "import pickle\n"
   ]
  },
  {
   "cell_type": "code",
   "execution_count": 2,
   "metadata": {},
   "outputs": [],
   "source": [
    "def prepare_forecasting_features_year(df):\n",
    "    df = df.copy()\n",
    "    shiftable_columns = ['Weekly_Sales', 'Temperature', 'MarkDown1','Fuel_Price',\n",
    "                        'MarkDown2', 'MarkDown3', 'MarkDown4', \n",
    "                        'MarkDown5', 'CPI', 'Unemployment']\n",
    "    dropable_columns  = ['Temperature', 'MarkDown1','Fuel_Price',\n",
    "                        'MarkDown2', 'MarkDown3', 'MarkDown4', \n",
    "                        'MarkDown5', 'CPI', 'Unemployment']\n",
    "    for col in shiftable_columns:\n",
    "        df[f'lag_yearly_{col}'] = df.groupby(['Store', 'Dept'])[col].shift(52)\n",
    "        df[f'{col}_historical_week_avg'] = df.groupby(\n",
    "            ['Store', 'Dept', 'week']\n",
    "        )[f'lag_yearly_{col}'].transform('mean')\n",
    "    feature_df = df.drop(dropable_columns, axis=1)\n",
    "    df_clean = feature_df.dropna(subset=['lag_yearly_Weekly_Sales'])\n",
    "    return df_clean"
   ]
  },
  {
   "cell_type": "code",
   "execution_count": 3,
   "metadata": {},
   "outputs": [],
   "source": [
    "df = pd.read_csv('../data/combined_data.csv')\n",
    "with open('../src/models/year_prediction_xgboost.pkl', \"rb\") as file:\n",
    "    model = pickle.load(file)\n",
    "with open('../src/models/year_prediction_preprocessor.pkl', \"rb\") as file:\n",
    "    preprocessor = pickle.load(file)"
   ]
  },
  {
   "cell_type": "code",
   "execution_count": 4,
   "metadata": {},
   "outputs": [],
   "source": [
    "df[\"Date\"] = pd.to_datetime(df[\"Date\"])  \n",
    "last_rows = df.sort_values(\"Date\").groupby([\"Store\", \"Dept\"]).last().reset_index()\n",
    "last_rows[\"Date\"] = last_rows[\"Date\"] + pd.DateOffset(years=1)\n",
    "df = pd.concat([df, last_rows], ignore_index=True)\n",
    "df = df.sort_values([\"Store\", \"Dept\", \"Date\"]).reset_index(drop=True)\n",
    "df = prepare_forecasting_features_year(df)"
   ]
  },
  {
   "cell_type": "code",
   "execution_count": 5,
   "metadata": {},
   "outputs": [],
   "source": [
    "next_year = df[df['Date']=='2013-10-26']"
   ]
  },
  {
   "cell_type": "code",
   "execution_count": 6,
   "metadata": {},
   "outputs": [],
   "source": [
    "input_data_transformed = preprocessor.transform(next_year)\n",
    "predictions = model.predict(input_data_transformed)\n"
   ]
  },
  {
   "cell_type": "code",
   "execution_count": 7,
   "metadata": {},
   "outputs": [],
   "source": [
    "next_year = next_year.copy()  \n",
    "next_year.loc[:, 'predicted_weekly_sales'] = predictions \n",
    "predictions_df = next_year[['Date', 'Store', 'Dept', 'predicted_weekly_sales']]\n",
    "predictions_df.set_index('Date', inplace=True)\n",
    "\n"
   ]
  },
  {
   "cell_type": "code",
   "execution_count": 8,
   "metadata": {},
   "outputs": [
    {
     "data": {
      "text/html": [
       "<div>\n",
       "<style scoped>\n",
       "    .dataframe tbody tr th:only-of-type {\n",
       "        vertical-align: middle;\n",
       "    }\n",
       "\n",
       "    .dataframe tbody tr th {\n",
       "        vertical-align: top;\n",
       "    }\n",
       "\n",
       "    .dataframe thead th {\n",
       "        text-align: right;\n",
       "    }\n",
       "</style>\n",
       "<table border=\"1\" class=\"dataframe\">\n",
       "  <thead>\n",
       "    <tr style=\"text-align: right;\">\n",
       "      <th></th>\n",
       "      <th>Store</th>\n",
       "      <th>Dept</th>\n",
       "      <th>predicted_weekly_sales</th>\n",
       "    </tr>\n",
       "    <tr>\n",
       "      <th>Date</th>\n",
       "      <th></th>\n",
       "      <th></th>\n",
       "      <th></th>\n",
       "    </tr>\n",
       "  </thead>\n",
       "  <tbody>\n",
       "    <tr>\n",
       "      <th>2013-10-26</th>\n",
       "      <td>1</td>\n",
       "      <td>1</td>\n",
       "      <td>38077.875000</td>\n",
       "    </tr>\n",
       "    <tr>\n",
       "      <th>2013-10-26</th>\n",
       "      <td>1</td>\n",
       "      <td>2</td>\n",
       "      <td>44304.589844</td>\n",
       "    </tr>\n",
       "    <tr>\n",
       "      <th>2013-10-26</th>\n",
       "      <td>1</td>\n",
       "      <td>3</td>\n",
       "      <td>9490.942383</td>\n",
       "    </tr>\n",
       "    <tr>\n",
       "      <th>2013-10-26</th>\n",
       "      <td>1</td>\n",
       "      <td>4</td>\n",
       "      <td>38394.382812</td>\n",
       "    </tr>\n",
       "    <tr>\n",
       "      <th>2013-10-26</th>\n",
       "      <td>1</td>\n",
       "      <td>5</td>\n",
       "      <td>24931.373047</td>\n",
       "    </tr>\n",
       "    <tr>\n",
       "      <th>...</th>\n",
       "      <td>...</td>\n",
       "      <td>...</td>\n",
       "      <td>...</td>\n",
       "    </tr>\n",
       "    <tr>\n",
       "      <th>2013-10-26</th>\n",
       "      <td>45</td>\n",
       "      <td>93</td>\n",
       "      <td>2213.137207</td>\n",
       "    </tr>\n",
       "    <tr>\n",
       "      <th>2013-10-26</th>\n",
       "      <td>45</td>\n",
       "      <td>94</td>\n",
       "      <td>4466.775879</td>\n",
       "    </tr>\n",
       "    <tr>\n",
       "      <th>2013-10-26</th>\n",
       "      <td>45</td>\n",
       "      <td>95</td>\n",
       "      <td>50632.375000</td>\n",
       "    </tr>\n",
       "    <tr>\n",
       "      <th>2013-10-26</th>\n",
       "      <td>45</td>\n",
       "      <td>97</td>\n",
       "      <td>6101.546875</td>\n",
       "    </tr>\n",
       "    <tr>\n",
       "      <th>2013-10-26</th>\n",
       "      <td>45</td>\n",
       "      <td>98</td>\n",
       "      <td>914.375122</td>\n",
       "    </tr>\n",
       "  </tbody>\n",
       "</table>\n",
       "<p>2923 rows × 3 columns</p>\n",
       "</div>"
      ],
      "text/plain": [
       "            Store  Dept  predicted_weekly_sales\n",
       "Date                                           \n",
       "2013-10-26      1     1            38077.875000\n",
       "2013-10-26      1     2            44304.589844\n",
       "2013-10-26      1     3             9490.942383\n",
       "2013-10-26      1     4            38394.382812\n",
       "2013-10-26      1     5            24931.373047\n",
       "...           ...   ...                     ...\n",
       "2013-10-26     45    93             2213.137207\n",
       "2013-10-26     45    94             4466.775879\n",
       "2013-10-26     45    95            50632.375000\n",
       "2013-10-26     45    97             6101.546875\n",
       "2013-10-26     45    98              914.375122\n",
       "\n",
       "[2923 rows x 3 columns]"
      ]
     },
     "execution_count": 8,
     "metadata": {},
     "output_type": "execute_result"
    }
   ],
   "source": [
    "predictions_df"
   ]
  }
 ],
 "metadata": {
  "kernelspec": {
   "display_name": "chatbot",
   "language": "python",
   "name": "python3"
  },
  "language_info": {
   "codemirror_mode": {
    "name": "ipython",
    "version": 3
   },
   "file_extension": ".py",
   "mimetype": "text/x-python",
   "name": "python",
   "nbconvert_exporter": "python",
   "pygments_lexer": "ipython3",
   "version": "3.12.7"
  }
 },
 "nbformat": 4,
 "nbformat_minor": 2
}
