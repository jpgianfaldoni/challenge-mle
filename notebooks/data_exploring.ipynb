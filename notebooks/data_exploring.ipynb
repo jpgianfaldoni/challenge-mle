{
 "cells": [
  {
   "cell_type": "code",
   "execution_count": null,
   "metadata": {},
   "outputs": [],
   "source": [
    "import pandas as pd\n",
    "import numpy as np\n",
    "import seaborn as sns\n",
    "import matplotlib.pyplot as plt\n"
   ]
  },
  {
   "cell_type": "code",
   "execution_count": null,
   "metadata": {},
   "outputs": [],
   "source": [
    "df_features = pd.read_csv('../data/features.csv')\n",
    "df_sales = pd.read_csv('../data/sales.csv')\n",
    "df_stores = pd.read_csv('../data/stores.csv')"
   ]
  },
  {
   "cell_type": "code",
   "execution_count": null,
   "metadata": {},
   "outputs": [],
   "source": [
    "df_features['Date'] = pd.to_datetime(df_features['Date'], format='%d/%m/%Y')\n",
    "df_sales['Date'] = pd.to_datetime(df_sales['Date'], format='%d/%m/%Y')\n"
   ]
  },
  {
   "cell_type": "code",
   "execution_count": null,
   "metadata": {},
   "outputs": [],
   "source": [
    "df_features.columns"
   ]
  },
  {
   "cell_type": "code",
   "execution_count": null,
   "metadata": {},
   "outputs": [],
   "source": [
    "df_features.head()"
   ]
  },
  {
   "cell_type": "code",
   "execution_count": null,
   "metadata": {},
   "outputs": [],
   "source": [
    "df_sales.columns"
   ]
  },
  {
   "cell_type": "code",
   "execution_count": null,
   "metadata": {},
   "outputs": [],
   "source": [
    "df_sales.head()"
   ]
  },
  {
   "cell_type": "code",
   "execution_count": null,
   "metadata": {},
   "outputs": [],
   "source": [
    "df_stores.columns"
   ]
  },
  {
   "cell_type": "code",
   "execution_count": null,
   "metadata": {},
   "outputs": [],
   "source": [
    "df_stores.head()"
   ]
  },
  {
   "cell_type": "code",
   "execution_count": null,
   "metadata": {},
   "outputs": [],
   "source": [
    "df_features = df_features.rename(columns={'IsHoliday': 'IsHolidayFeatures'})\n",
    "df_combined = pd.merge(df_sales, df_stores, on='Store', how='left')\n",
    "df_final = pd.merge(df_combined, df_features, on=['Store', 'Date'], how='left')\n",
    "df_final['week'] = df_final['Date'].dt.isocalendar().week\n",
    "df_final['month'] = df_final['Date'].dt.month\n",
    "df_final['day'] = df_final['Date'].dt.day\n",
    "df_final.set_index('Date', inplace=True)\n",
    "df_final = df_final.sort_index()\n"
   ]
  },
  {
   "cell_type": "code",
   "execution_count": null,
   "metadata": {},
   "outputs": [],
   "source": [
    "\n",
    "weekly_sales = df_final.groupby('Date')['Weekly_Sales'].sum().reset_index()\n",
    "\n",
    "plt.figure(figsize=(12, 6))\n",
    "sns.lineplot(data=weekly_sales, x='Date', y='Weekly_Sales', marker='o', color='b')\n",
    "plt.title('Weekly sales over time', fontsize=16)\n",
    "plt.xlabel('Date', fontsize=12)\n",
    "plt.ylabel('Total sales', fontsize=12)\n",
    "plt.xticks(rotation=45)\n",
    "plt.tight_layout()\n",
    "plt.show()\n"
   ]
  },
  {
   "cell_type": "code",
   "execution_count": null,
   "metadata": {},
   "outputs": [],
   "source": [
    "weekly_sales_by_week = df_final.groupby('week')['Weekly_Sales'].mean().reset_index()\n",
    "\n",
    "plt.figure(figsize=(12, 6))\n",
    "\n",
    "sns.lineplot(data=weekly_sales_by_week, x='week', y='Weekly_Sales', marker='o', color='b')\n",
    "\n",
    "plt.title('Mean weekly sales trend by week of year', fontsize=16)\n",
    "plt.xlabel('week', fontsize=12)\n",
    "plt.ylabel('Mean sales', fontsize=12)\n",
    "plt.tight_layout()\n",
    "plt.show()"
   ]
  },
  {
   "cell_type": "code",
   "execution_count": null,
   "metadata": {},
   "outputs": [],
   "source": [
    "df_corr = df_final[['Weekly_Sales', 'Temperature', 'Fuel_Price', 'CPI', 'Unemployment']]\n",
    "correlation_matrix = df_corr.corr()\n",
    "plt.figure(figsize=(10, 8))\n",
    "sns.heatmap(correlation_matrix, annot=True, cmap='coolwarm', fmt='.2f', vmin=-1, vmax=1, cbar=True)\n",
    "plt.title('Correlation Between Environmental Factors and Sales', fontsize=16)\n",
    "plt.tight_layout()\n",
    "plt.show()"
   ]
  },
  {
   "cell_type": "code",
   "execution_count": null,
   "metadata": {},
   "outputs": [],
   "source": [
    "df_final['Total_Discount'] = df_final[['MarkDown1', 'MarkDown2', 'MarkDown3', 'MarkDown4', 'MarkDown5']].sum(axis=1)\n",
    "\n",
    "sales_by_holiday = df_final.groupby('IsHoliday')['Weekly_Sales'].mean().reset_index()\n",
    "\n",
    "plt.figure(figsize=(10, 6))\n",
    "sns.barplot(data=sales_by_holiday, x='IsHoliday', y='Weekly_Sales', palette='Blues')\n",
    "plt.title('Average Weekly Sales During Holidays vs Non-Holidays', fontsize=16)\n",
    "plt.xlabel('Is Holiday?', fontsize=12)\n",
    "plt.ylabel('Average Weekly Sales ($)', fontsize=12)\n",
    "plt.tight_layout()\n",
    "plt.show()\n"
   ]
  },
  {
   "cell_type": "code",
   "execution_count": null,
   "metadata": {},
   "outputs": [],
   "source": [
    "df_final['day_type'] = df_final['day'].apply(lambda x: 'Weekend' if x in [6, 7] else 'Weekday')\n",
    "avg_sales = df_final.groupby('day_type')['Weekly_Sales'].mean()\n",
    "plt.bar(avg_sales.index, avg_sales.values, color=['blue', 'orange'])\n",
    "plt.title('Average Weekly Sales: Weekdays vs. Weekends')\n",
    "plt.ylabel('Average Weekly Sales')\n",
    "plt.xlabel('Day Type')\n",
    "plt.show()\n"
   ]
  },
  {
   "cell_type": "code",
   "execution_count": null,
   "metadata": {},
   "outputs": [],
   "source": []
  }
 ],
 "metadata": {
  "kernelspec": {
   "display_name": "chatbot",
   "language": "python",
   "name": "python3"
  },
  "language_info": {
   "codemirror_mode": {
    "name": "ipython",
    "version": 3
   },
   "file_extension": ".py",
   "mimetype": "text/x-python",
   "name": "python",
   "nbconvert_exporter": "python",
   "pygments_lexer": "ipython3",
   "version": "3.12.7"
  }
 },
 "nbformat": 4,
 "nbformat_minor": 2
}
