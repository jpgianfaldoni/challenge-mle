{
 "cells": [
  {
   "cell_type": "code",
   "execution_count": null,
   "metadata": {},
   "outputs": [],
   "source": [
    "import pandas as pd\n",
    "import pandas as pd\n",
    "from sklearn.model_selection import train_test_split\n",
    "from sklearn.metrics import mean_squared_error\n",
    "from sklearn.preprocessing import OneHotEncoder, StandardScaler\n",
    "from sklearn.compose import ColumnTransformer\n",
    "from sklearn.pipeline import Pipeline\n",
    "from xgboost import XGBRegressor\n",
    "\n",
    "\n"
   ]
  },
  {
   "cell_type": "code",
   "execution_count": null,
   "metadata": {},
   "outputs": [],
   "source": [
    "df = pd.read_csv('../data/improved_data_52.csv')\n",
    "df2 = pd.read_csv('../data/improved_data_52.csv')"
   ]
  },
  {
   "cell_type": "code",
   "execution_count": null,
   "metadata": {},
   "outputs": [],
   "source": [
    "df.describe()"
   ]
  },
  {
   "cell_type": "code",
   "execution_count": null,
   "metadata": {},
   "outputs": [],
   "source": [
    "df['Weekly_Sales'].var()"
   ]
  },
  {
   "cell_type": "code",
   "execution_count": null,
   "metadata": {},
   "outputs": [],
   "source": [
    "df.head()"
   ]
  },
  {
   "cell_type": "code",
   "execution_count": null,
   "metadata": {},
   "outputs": [],
   "source": [
    "from sklearn.metrics import mean_squared_error, mean_absolute_error, r2_score\n",
    "import matplotlib.pyplot as plt\n",
    "import numpy as np\n",
    "import pandas as pd\n",
    "import seaborn as sns\n",
    "from xgboost import plot_importance\n",
    "\n",
    "target = 'Weekly_Sales'\n",
    "\n",
    "X = df2.drop(columns=target, axis=1)\n",
    "y = df2[target]\n",
    "X_train, X_test, y_train, y_test = train_test_split(X, y, test_size=0.2, random_state=42)\n",
    "\n",
    "categorical_features = ['Store', 'Dept', 'IsHoliday', 'Type']\n",
    "numerical_features = ['Size', 'Fuel_Price', 'week', 'month', 'day', 'Temperature', 'MarkDown1', 'MarkDown2',\n",
    "                      'MarkDown3', 'MarkDown4', 'MarkDown5', 'CPI', 'Unemployment']\n",
    "\n",
    "categorical_transformer = OneHotEncoder(handle_unknown='ignore')\n",
    "numerical_transformer = StandardScaler()\n",
    "\n",
    "preprocessor = ColumnTransformer(\n",
    "    transformers=[\n",
    "        ('num', numerical_transformer, numerical_features),\n",
    "        ('cat', categorical_transformer, categorical_features)\n",
    "    ])\n",
    "\n",
    "model = XGBRegressor(objective='reg:squarederror', random_state=42)\n",
    "\n",
    "pipeline = Pipeline(steps=[\n",
    "    ('preprocessor', preprocessor),\n",
    "    ('model', model)\n",
    "])\n",
    "\n",
    "pipeline.fit(X_train, y_train)\n",
    "\n",
    "y_pred = pipeline.predict(X_test)\n",
    "\n",
    "mse = mean_squared_error(y_test, y_pred)\n",
    "mae = mean_absolute_error(y_test, y_pred)\n",
    "r2 = r2_score(y_test, y_pred)\n",
    "\n",
    "print(f\"Mean Squared Error (MSE): {mse:.2f}\")\n",
    "print(f\"Mean Absolute Error (MAE): {mae:.2f}\")\n",
    "print(f\"R-squared (R2): {r2:.2f}\")\n",
    "\n",
    "residuals = y_test - y_pred\n",
    "plt.figure(figsize=(10, 6))\n",
    "sns.histplot(residuals, kde=True, bins=30)\n",
    "plt.title('Residual Distribution')\n",
    "plt.xlabel('Residuals')\n",
    "plt.ylabel('Frequency')\n",
    "plt.show()\n",
    "\n",
    "plt.figure(figsize=(10, 6))\n",
    "plt.scatter(y_test, y_pred, alpha=0.6)\n",
    "plt.plot([y_test.min(), y_test.max()], [y_test.min(), y_test.max()], 'r--', lw=2)\n",
    "plt.title('Predicted vs True Values')\n",
    "plt.xlabel('True Values')\n",
    "plt.ylabel('Predictions')\n",
    "plt.show()\n",
    "\n",
    "xgb_model = pipeline.named_steps['model']\n",
    "if hasattr(xgb_model, 'feature_importances_'):\n",
    "    plt.figure(figsize=(10, 6))\n",
    "    plot_importance(xgb_model, max_num_features=10, importance_type='weight', title='Top 10 Feature Importances')\n",
    "    plt.show()\n",
    "\n",
    "try:\n",
    "    ohe_columns = pipeline.named_steps['preprocessor'].transformers_[1][1].get_feature_names_out(categorical_features)\n",
    "    \n",
    "    all_feature_names = np.concatenate([numerical_features, ohe_columns])\n",
    "    \n",
    "    filtered_feature_names = [name for name in all_feature_names if not name.startswith(('Dept_', 'Store_', 'Type_'))]\n",
    "    \n",
    "    xgb_model = pipeline.named_steps['model']\n",
    "    feature_importances = pd.DataFrame({'Feature': all_feature_names, \n",
    "                                        'Importance': xgb_model.feature_importances_})\n",
    "    \n",
    "    feature_importances_filtered = feature_importances[feature_importances['Feature'].isin(filtered_feature_names)]\n",
    "    \n",
    "    feature_importances_filtered = feature_importances_filtered.sort_values(by='Importance', ascending=False)\n",
    "    \n",
    "    print(\"\\nFeature Importances (excluding Dept_):\\n\", feature_importances_filtered.head(10))\n",
    "\n",
    "except Exception as e:\n",
    "    print(\"\\nFeature importance calculation failed:\", e)\n",
    "\n"
   ]
  },
  {
   "cell_type": "code",
   "execution_count": null,
   "metadata": {},
   "outputs": [],
   "source": [
    "X_test['original_date'] = pd.to_datetime(X_test['original_date'])\n",
    "X_test['Predicted_Weekly_Sales'] = y_pred\n",
    "X_test['True_Weekly_Sales'] = y_test\n",
    "\n",
    "\n"
   ]
  },
  {
   "cell_type": "code",
   "execution_count": null,
   "metadata": {},
   "outputs": [],
   "source": [
    "\n",
    "weekly_sales_true = X_test.groupby('original_date')['True_Weekly_Sales'].sum().reset_index()\n",
    "\n",
    "plt.figure(figsize=(12, 6))\n",
    "sns.lineplot(data=weekly_sales_true, x='original_date', y='True_Weekly_Sales', marker='o', color='b')\n",
    "plt.title('Weekly sales over time', fontsize=16)\n",
    "plt.xlabel('Date', fontsize=12)\n",
    "plt.ylabel('Total sales', fontsize=12)\n",
    "plt.xticks(rotation=45)\n",
    "plt.tight_layout()\n",
    "plt.show()\n"
   ]
  },
  {
   "cell_type": "code",
   "execution_count": null,
   "metadata": {},
   "outputs": [],
   "source": [
    "weekly_sales_pred = X_test.groupby('original_date')['Predicted_Weekly_Sales'].sum().reset_index()\n",
    "\n",
    "plt.figure(figsize=(12, 6))\n",
    "sns.lineplot(data=weekly_sales_pred, x='original_date', y='Predicted_Weekly_Sales', marker='o', color='b')\n",
    "plt.title('Weekly sales over time', fontsize=16)\n",
    "plt.xlabel('Date', fontsize=12)\n",
    "plt.ylabel('Total sales', fontsize=12)\n",
    "plt.xticks(rotation=45)\n",
    "plt.tight_layout()\n",
    "plt.show()"
   ]
  }
 ],
 "metadata": {
  "kernelspec": {
   "display_name": "chatbot",
   "language": "python",
   "name": "python3"
  },
  "language_info": {
   "codemirror_mode": {
    "name": "ipython",
    "version": 3
   },
   "file_extension": ".py",
   "mimetype": "text/x-python",
   "name": "python",
   "nbconvert_exporter": "python",
   "pygments_lexer": "ipython3",
   "version": "3.12.7"
  }
 },
 "nbformat": 4,
 "nbformat_minor": 2
}
